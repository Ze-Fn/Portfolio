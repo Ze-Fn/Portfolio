{
 "cells": [
  {
   "cell_type": "markdown",
   "id": "fc64d07d-8ae4-4263-820e-b29ef1fe5018",
   "metadata": {},
   "source": [
    "# 1 | Preparation\n",
    "Import necessary libraries."
   ]
  },
  {
   "cell_type": "code",
   "execution_count": 13,
   "id": "fbc1db69-ef15-466d-8f24-23292e6e2ea0",
   "metadata": {},
   "outputs": [],
   "source": [
    "import numpy as np\n",
    "import pandas as pd"
   ]
  },
  {
   "cell_type": "markdown",
   "id": "6d8f19f9-a4cf-4736-a9ae-4bba9abd3e4a",
   "metadata": {},
   "source": [
    "# 2 | Privacy Protection\n",
    "This dataset contains values that reveals specific individual and institution name. To protect their identity, I used anonymization technique (enumeration) to replace every individual names. As for the specific institution name mentioned, I simply delete them but not to the point that the necessary data is eradicated. As a side note, since this dataset is stored on my public repo, I have censored the individual names beforehand, before it even staged for preparation."
   ]
  },
  {
   "cell_type": "code",
   "execution_count": 15,
   "id": "387075e2-84d3-473a-bad5-b4623ce3f23b",
   "metadata": {},
   "outputs": [
    {
     "data": {
      "text/html": [
       "<div>\n",
       "<style scoped>\n",
       "    .dataframe tbody tr th:only-of-type {\n",
       "        vertical-align: middle;\n",
       "    }\n",
       "\n",
       "    .dataframe tbody tr th {\n",
       "        vertical-align: top;\n",
       "    }\n",
       "\n",
       "    .dataframe thead th {\n",
       "        text-align: right;\n",
       "    }\n",
       "</style>\n",
       "<table border=\"1\" class=\"dataframe\">\n",
       "  <thead>\n",
       "    <tr style=\"text-align: right;\">\n",
       "      <th></th>\n",
       "      <th>Timestamp</th>\n",
       "      <th>Nama Lengkap</th>\n",
       "      <th>Jenis Kelamin</th>\n",
       "      <th>Lulus dari SMP</th>\n",
       "      <th>Lanjut ke Sekolah Menengah ...</th>\n",
       "      <th>Jurusan</th>\n",
       "    </tr>\n",
       "  </thead>\n",
       "  <tbody>\n",
       "    <tr>\n",
       "      <th>0</th>\n",
       "      <td>8/25/2025 9:45:19</td>\n",
       "      <td>Student 1</td>\n",
       "      <td>Laki-laki</td>\n",
       "      <td>2025</td>\n",
       "      <td>SMK</td>\n",
       "      <td>Agribisnis Tanaman Pangan Dan Hortikultura (ATPH)</td>\n",
       "    </tr>\n",
       "    <tr>\n",
       "      <th>1</th>\n",
       "      <td>8/25/2025 9:51:54</td>\n",
       "      <td>Student 2</td>\n",
       "      <td>Laki-laki</td>\n",
       "      <td>2024-2025</td>\n",
       "      <td>SMA</td>\n",
       "      <td>IPS</td>\n",
       "    </tr>\n",
       "    <tr>\n",
       "      <th>2</th>\n",
       "      <td>8/25/2025 9:57:09</td>\n",
       "      <td>Student 3</td>\n",
       "      <td>Laki-laki</td>\n",
       "      <td>2025</td>\n",
       "      <td>SMK</td>\n",
       "      <td>Teknik Otomasi Industri</td>\n",
       "    </tr>\n",
       "    <tr>\n",
       "      <th>3</th>\n",
       "      <td>8/25/2025 10:05:45</td>\n",
       "      <td>Student 4</td>\n",
       "      <td>Laki-laki</td>\n",
       "      <td>2024-2025</td>\n",
       "      <td>SMK</td>\n",
       "      <td>Teknik kendaraan ringan</td>\n",
       "    </tr>\n",
       "    <tr>\n",
       "      <th>4</th>\n",
       "      <td>8/25/2025 10:08:43</td>\n",
       "      <td>Student 5</td>\n",
       "      <td>Perempuan</td>\n",
       "      <td>2025</td>\n",
       "      <td>SMK</td>\n",
       "      <td>USAHA LAYANAN PARIWISATA</td>\n",
       "    </tr>\n",
       "    <tr>\n",
       "      <th>...</th>\n",
       "      <td>...</td>\n",
       "      <td>...</td>\n",
       "      <td>...</td>\n",
       "      <td>...</td>\n",
       "      <td>...</td>\n",
       "      <td>...</td>\n",
       "    </tr>\n",
       "    <tr>\n",
       "      <th>116</th>\n",
       "      <td>8/26/2025 22:57:26</td>\n",
       "      <td>Student 117</td>\n",
       "      <td>Perempuan</td>\n",
       "      <td>2025</td>\n",
       "      <td>SMK</td>\n",
       "      <td>Teknik Otomasi Industri</td>\n",
       "    </tr>\n",
       "    <tr>\n",
       "      <th>117</th>\n",
       "      <td>8/27/2025 21:11:29</td>\n",
       "      <td>Student 118</td>\n",
       "      <td>Perempuan</td>\n",
       "      <td>2024</td>\n",
       "      <td>SMA</td>\n",
       "      <td>ips</td>\n",
       "    </tr>\n",
       "    <tr>\n",
       "      <th>118</th>\n",
       "      <td>8/30/2025 9:32:55</td>\n",
       "      <td>Student 119</td>\n",
       "      <td>Perempuan</td>\n",
       "      <td>2025</td>\n",
       "      <td>SMA</td>\n",
       "      <td>IPS</td>\n",
       "    </tr>\n",
       "    <tr>\n",
       "      <th>119</th>\n",
       "      <td>8/30/2025 9:42:34</td>\n",
       "      <td>Student 120</td>\n",
       "      <td>Perempuan</td>\n",
       "      <td>2025</td>\n",
       "      <td>SMA</td>\n",
       "      <td>IPS</td>\n",
       "    </tr>\n",
       "    <tr>\n",
       "      <th>120</th>\n",
       "      <td>8/30/2025 10:03:38</td>\n",
       "      <td>Student 121</td>\n",
       "      <td>Perempuan</td>\n",
       "      <td>2025</td>\n",
       "      <td>SMA</td>\n",
       "      <td>IPS</td>\n",
       "    </tr>\n",
       "  </tbody>\n",
       "</table>\n",
       "<p>121 rows × 6 columns</p>\n",
       "</div>"
      ],
      "text/plain": [
       "              Timestamp Nama Lengkap Jenis Kelamin Lulus dari SMP  \\\n",
       "0     8/25/2025 9:45:19    Student 1     Laki-laki           2025   \n",
       "1     8/25/2025 9:51:54    Student 2     Laki-laki      2024-2025   \n",
       "2     8/25/2025 9:57:09    Student 3     Laki-laki           2025   \n",
       "3    8/25/2025 10:05:45    Student 4     Laki-laki      2024-2025   \n",
       "4    8/25/2025 10:08:43    Student 5     Perempuan           2025   \n",
       "..                  ...          ...           ...            ...   \n",
       "116  8/26/2025 22:57:26  Student 117     Perempuan           2025   \n",
       "117  8/27/2025 21:11:29  Student 118     Perempuan           2024   \n",
       "118   8/30/2025 9:32:55  Student 119     Perempuan           2025   \n",
       "119   8/30/2025 9:42:34  Student 120     Perempuan           2025   \n",
       "120  8/30/2025 10:03:38  Student 121     Perempuan           2025   \n",
       "\n",
       "    Lanjut ke Sekolah Menengah ...  \\\n",
       "0                              SMK   \n",
       "1                              SMA   \n",
       "2                              SMK   \n",
       "3                              SMK   \n",
       "4                              SMK   \n",
       "..                             ...   \n",
       "116                            SMK   \n",
       "117                            SMA   \n",
       "118                            SMA   \n",
       "119                            SMA   \n",
       "120                            SMA   \n",
       "\n",
       "                                               Jurusan  \n",
       "0    Agribisnis Tanaman Pangan Dan Hortikultura (ATPH)  \n",
       "1                                                  IPS  \n",
       "2                              Teknik Otomasi Industri  \n",
       "3                              Teknik kendaraan ringan  \n",
       "4                             USAHA LAYANAN PARIWISATA  \n",
       "..                                                 ...  \n",
       "116                            Teknik Otomasi Industri  \n",
       "117                                                ips  \n",
       "118                                                IPS  \n",
       "119                                                IPS  \n",
       "120                                                IPS  \n",
       "\n",
       "[121 rows x 6 columns]"
      ]
     },
     "execution_count": 15,
     "metadata": {},
     "output_type": "execute_result"
    }
   ],
   "source": [
    "df = pd.read_csv('data.csv', sep=';')\n",
    "df['Nama Lengkap'] = [f'Student {i+1}' for i in range(len(df))]\n",
    "df = df.rename(columns={'Lulus dari SPENSANA  ...': 'Lulus dari SMP',\n",
    "                       'Jurusan ...': 'Jurusan'})\n",
    "df"
   ]
  },
  {
   "cell_type": "markdown",
   "id": "b246c78c-3ef4-4c4b-a065-81416370d2a3",
   "metadata": {},
   "source": [
    "# 3 | Checking the Data\n",
    "In this part, I check the data whether it contains any missing values, duplicates, outliers, and inconsistent data points."
   ]
  },
  {
   "cell_type": "markdown",
   "id": "1945524c-3fe6-4886-a329-9d03e0b39f52",
   "metadata": {},
   "source": [
    "## 3.1 Column Overview\n",
    "All columns seem to be identified as \"object\". It would be more appropriate if they are converted to \"category\". However, this change will take place later after all data has been normalized."
   ]
  },
  {
   "cell_type": "code",
   "execution_count": 17,
   "id": "8b6c0e1f-a458-4315-900a-9687ef12123b",
   "metadata": {},
   "outputs": [
    {
     "name": "stdout",
     "output_type": "stream",
     "text": [
      "Timestamp                         object\n",
      "Nama Lengkap                      object\n",
      "Jenis Kelamin                     object\n",
      "Lulus dari SMP                    object\n",
      "Lanjut ke Sekolah Menengah ...    object\n",
      "Jurusan                           object\n",
      "dtype: object\n"
     ]
    }
   ],
   "source": [
    "print(df.dtypes)"
   ]
  },
  {
   "cell_type": "markdown",
   "id": "29831392-5542-41e7-b435-be88a13d6145",
   "metadata": {},
   "source": [
    "## 3.2 Checking for missing values\n",
    "Status: **OK**"
   ]
  },
  {
   "cell_type": "code",
   "execution_count": 19,
   "id": "bba21217-ac98-4a4c-a129-e12734250eb7",
   "metadata": {},
   "outputs": [
    {
     "data": {
      "text/plain": [
       "Timestamp                         0\n",
       "Nama Lengkap                      0\n",
       "Jenis Kelamin                     0\n",
       "Lulus dari SMP                    0\n",
       "Lanjut ke Sekolah Menengah ...    0\n",
       "Jurusan                           0\n",
       "dtype: int64"
      ]
     },
     "execution_count": 19,
     "metadata": {},
     "output_type": "execute_result"
    }
   ],
   "source": [
    "df.isna().sum(axis=0)"
   ]
  },
  {
   "cell_type": "markdown",
   "id": "d2c794ac-1841-4a31-8aac-e92140ceec84",
   "metadata": {},
   "source": [
    "## 3.3 Checking for Duplicates\n",
    "Checking for duplicate data is based on the primary key only. Thus, I check for duplicate on the col 'Nama Lengkap'.\\\n",
    "Status: **OK**"
   ]
  },
  {
   "cell_type": "code",
   "execution_count": 21,
   "id": "ab208890-f2bc-47c5-b842-17b7f3084048",
   "metadata": {},
   "outputs": [
    {
     "data": {
      "text/plain": [
       "0"
      ]
     },
     "execution_count": 21,
     "metadata": {},
     "output_type": "execute_result"
    }
   ],
   "source": [
    "df['Nama Lengkap'].duplicated().sum()"
   ]
  },
  {
   "cell_type": "markdown",
   "id": "615c1410-ee1d-4292-a8a7-c981fd412c11",
   "metadata": {},
   "source": [
    "## 3.4 Checking for outliers\n",
    "This stage checks 'Jenis Kelamin', 'Lulus dari SMP', 'Lanjut ke Sekolah Menengah ...', and 'Jurusan'."
   ]
  },
  {
   "cell_type": "code",
   "execution_count": 23,
   "id": "883961fc-434c-4efe-b7af-4fdad83251e9",
   "metadata": {},
   "outputs": [
    {
     "data": {
      "text/plain": [
       "Jenis Kelamin\n",
       "Perempuan    72\n",
       "Laki-laki    49\n",
       "Name: count, dtype: int64"
      ]
     },
     "execution_count": 23,
     "metadata": {},
     "output_type": "execute_result"
    }
   ],
   "source": [
    "df['Jenis Kelamin'].value_counts()"
   ]
  },
  {
   "cell_type": "markdown",
   "id": "4a532ef7-90b7-4dd8-8803-1397643bf601",
   "metadata": {},
   "source": [
    "Jenis Kelamin: **OK**"
   ]
  },
  {
   "cell_type": "code",
   "execution_count": 25,
   "id": "d979ccfa-d47f-4b82-b2ef-b6282e98dbd2",
   "metadata": {},
   "outputs": [
    {
     "data": {
      "text/plain": [
       "Lulus dari SMP\n",
       "2025            55\n",
       "2024            46\n",
       "2023             7\n",
       "2024-2025        4\n",
       "2022             2\n",
       "Tahun 2025       1\n",
       "2023/2024        1\n",
       "12 Juni 2025     1\n",
       "thn 2025         1\n",
       "cth:2024         1\n",
       "tahun 2024       1\n",
       "20223            1\n",
       "Name: count, dtype: int64"
      ]
     },
     "execution_count": 25,
     "metadata": {},
     "output_type": "execute_result"
    }
   ],
   "source": [
    "df['Lulus dari SMP'].value_counts()"
   ]
  },
  {
   "cell_type": "markdown",
   "id": "e1bf1484-2818-4e81-8dd7-ab7702b72465",
   "metadata": {},
   "source": [
    "> In this column, data must be only in one year. Other kinds of data must be converted to one year format. For instance, '2023/2024' must be changed to '2024'.\\\n",
    "In this case, it is more efficient to create a dictionary and change the values accordingly."
   ]
  },
  {
   "cell_type": "code",
   "execution_count": 27,
   "id": "c3325bdc-fa37-4d92-aa22-a8d6aa61226f",
   "metadata": {},
   "outputs": [
    {
     "data": {
      "text/plain": [
       "Lulus dari SMP\n",
       "2025    62\n",
       "2024    49\n",
       "2023     8\n",
       "2022     2\n",
       "Name: count, dtype: int64"
      ]
     },
     "execution_count": 27,
     "metadata": {},
     "output_type": "execute_result"
    }
   ],
   "source": [
    "normalize_Lulus_dari_SMP = {'2024-2025': '2025',\n",
    "                           'Tahun 2025': '2025',\n",
    "                           '2023/2024': '2024',\n",
    "                           '12 Juni 2025': '2025',\n",
    "                           'thn 2025': '2025',\n",
    "                           'cth:2024': '2024',\n",
    "                           'tahun 2024': '2024',\n",
    "                           '20223': '2023'}\n",
    "df['Lulus dari SMP'].map(normalize_Lulus_dari_SMP).fillna(df['Lulus dari SMP']).value_counts() # checks for successful operation and prevents data loss\n",
    "df['Lulus dari SMP'] = df['Lulus dari SMP'].map(normalize_Lulus_dari_SMP).fillna(df['Lulus dari SMP'])\n",
    "df['Lulus dari SMP'].value_counts()"
   ]
  },
  {
   "cell_type": "markdown",
   "id": "e8e2a745-f547-4ffd-8dc6-88aeb2339143",
   "metadata": {},
   "source": [
    "Lulus dari SMP: **OK**"
   ]
  },
  {
   "cell_type": "code",
   "execution_count": 29,
   "id": "da3d67bb-4db8-4eb1-8ee9-472be2be5cb9",
   "metadata": {},
   "outputs": [
    {
     "data": {
      "text/plain": [
       "Lanjut ke Sekolah Menengah ...\n",
       "SMK                 76\n",
       "SMA                 44\n",
       "SMAN 1 JALAKSANA     1\n",
       "Name: count, dtype: int64"
      ]
     },
     "execution_count": 29,
     "metadata": {},
     "output_type": "execute_result"
    }
   ],
   "source": [
    "df['Lanjut ke Sekolah Menengah ...'].value_counts()"
   ]
  },
  {
   "cell_type": "markdown",
   "id": "9d4b8fb0-c768-48b2-b9d8-f3dffe8f23d4",
   "metadata": {},
   "source": [
    "> Seems like there is one outlier in col 'Lanjut ke Sekolah Menengah ...'.\\\n",
    "I located the specific outlier first, then change it to SMA."
   ]
  },
  {
   "cell_type": "code",
   "execution_count": 31,
   "id": "fe319866-91ab-4658-821d-96f7ca4f4b74",
   "metadata": {},
   "outputs": [
    {
     "name": "stdout",
     "output_type": "stream",
     "text": [
      "             Timestamp Nama Lengkap Jenis Kelamin Lulus dari SMP  \\\n",
      "31  8/25/2025 13:15:29   Student 32     Laki-laki           2024   \n",
      "\n",
      "   Lanjut ke Sekolah Menengah ... Jurusan  \n",
      "31               SMAN 1 JALAKSANA     IPA  \n"
     ]
    }
   ],
   "source": [
    "print(df[df['Lanjut ke Sekolah Menengah ...'] == 'SMAN 1 JALAKSANA'])"
   ]
  },
  {
   "cell_type": "code",
   "execution_count": 33,
   "id": "dd8d1476-aff4-4cd6-857d-e0488814ce1f",
   "metadata": {},
   "outputs": [
    {
     "data": {
      "text/plain": [
       "Lanjut ke Sekolah Menengah ...\n",
       "SMK    76\n",
       "SMA    45\n",
       "Name: count, dtype: int64"
      ]
     },
     "execution_count": 33,
     "metadata": {},
     "output_type": "execute_result"
    }
   ],
   "source": [
    "df.loc[df['Lanjut ke Sekolah Menengah ...'] == 'SMAN 1 JALAKSANA', 'Lanjut ke Sekolah Menengah ...'] = 'SMA' # checkpoint\n",
    "df['Lanjut ke Sekolah Menengah ...'].value_counts()"
   ]
  },
  {
   "cell_type": "markdown",
   "id": "8d1c4410-80b4-4307-8f68-964b202c3d3a",
   "metadata": {},
   "source": [
    "Lanjut ke Sekolah Menengah ...: **OK**"
   ]
  },
  {
   "cell_type": "code",
   "execution_count": 35,
   "id": "a51a969f-5527-4062-aa38-af9d0eb74e8d",
   "metadata": {},
   "outputs": [
    {
     "data": {
      "text/plain": [
       "array(['Agribisnis Tanaman Pangan Dan Hortikultura (ATPH)', 'IPS',\n",
       "       'Teknik Otomasi Industri', 'Teknik kendaraan ringan',\n",
       "       'USAHA LAYANAN PARIWISATA', 'AKUNTANSI',\n",
       "       'Pengembangan Perangkat Lunak dan Gim',\n",
       "       'desain permodelan dan informasi bangunan',\n",
       "       'Desain Pemodelan dan Informasi Bangunan', 'Teknik Audio Video',\n",
       "       'ips', 'Teknik Komputer Jaringan', 'IPA',\n",
       "       'Desain Komunikasi Visual',\n",
       "       'Teknik Ketenagalistrikan/Teknik instalasi Tenaga Listrik (TITL)',\n",
       "       'TSM (TEKNIK SEPEDA MOTOR)', 'Teknik Kontruksi Dan Perumahan',\n",
       "       'TKP (tehnik konstruksi dan perumahan)',\n",
       "       'Akuntansi keuangan dan lembaga', 'teknik otomotif',\n",
       "       'tkj (teknik komputer dan jaringan)',\n",
       "       'SMK: Teknik kendaraan Ringan', 'teknik audio video',\n",
       "       'jurusan TSM', 'jurusan teknik permesinan',\n",
       "       'JURUSAN PEMESINAN (TPM)', 'Teknik Audio Vidio',\n",
       "       'Teknik Sepeda Motor', 'teknik permesinan smk karya nasional',\n",
       "       'TEKNIK KENDARAAN RINGAN', 'TBSM', 'DESAIN KOMUNIKASI VISUAL',\n",
       "       'SMA: IPA', 'jurusan keperawatan', 'SMK (kefarmasian)',\n",
       "       'Teknik sepeda motor', 'agribisnis perikanan air tawar',\n",
       "       'Keperawatan', 'Rekayasa perangkat lunak', 'layanan perbankan',\n",
       "       'perhotelan', 'Desain Permodelan dan Informasi Bangunan',\n",
       "       'SMAN 1 CILIMUS = jurusan peminatan Matematika Tingkat Lanjut,Biologi,Ekonomi',\n",
       "       'akuntansi', 'Teknik Komputar Jaringan', 'TEKNIK SEPEDA MOTOR',\n",
       "       'Ips', 'SMA, IPA', 'SMA:IPA', 'Teknik Komputer dan Jaringan (TKJ)',\n",
       "       'Teknik komputer dan jaringan',\n",
       "       'SMKN 1 KUNINGAN : Desain komunikasi visual (DKV',\n",
       "       'akuntansi dan keuangan lembaga', 'Tata boga',\n",
       "       'Desain komunikasi Visual', 'teknik sepedah motor', 'Farmasi',\n",
       "       'Teknik pemesinan', 'teknik kendaraan ringgan',\n",
       "       'REKAYASA PERANGKAT LUNAK', 'Teknik Instalasi Tenaga Listrik',\n",
       "       'Jurusan pemasaran', 'Kelas khusus Axioo class program',\n",
       "       'Akuntansi dan Keuangan Lembaga',\n",
       "       'SMKN 3 KUNINGAN : TEKNIK OTAMASI INDUSTRI', 'Pemasaran',\n",
       "       'PEMASARAN / BISNIS RITEL', 'Teknik Ketenagalistrikan', 'tjk',\n",
       "       'SMK N 3 KUNINGAN (TOI)'], dtype=object)"
      ]
     },
     "execution_count": 35,
     "metadata": {},
     "output_type": "execute_result"
    }
   ],
   "source": [
    "df['Jurusan'].unique()"
   ]
  },
  {
   "cell_type": "markdown",
   "id": "bbc76b8e-ff40-49c3-9246-1990797abfb9",
   "metadata": {},
   "source": [
    "> This column seems to be taking a like to *diversity*. The number of inconsistencies is staggering. So, I will clean this mess by making a dictionary. To speed up things, I use Generative AI such as Grok 4, Gemini 2.5 Pro, and ChatGPT. The use of three distinct generative AIs serve as a cross-check, whether any of them made mistake."
   ]
  },
  {
   "cell_type": "code",
   "execution_count": 180,
   "id": "9c2a783c-1d28-4e79-b490-c4894f7f9e12",
   "metadata": {
    "scrolled": true
   },
   "outputs": [
    {
     "data": {
      "text/plain": [
       "{'ipa': 'Ilmu Pengetahuan Alam',\n",
       " 'sma: ipa': 'Ilmu Pengetahuan Alam',\n",
       " 'sma, ipa': 'Ilmu Pengetahuan Alam',\n",
       " 'sma:ipa': 'Ilmu Pengetahuan Alam',\n",
       " 'IPS': 'Ilmu Pengetahuan Sosial',\n",
       " 'ips': 'Ilmu Pengetahuan Sosial',\n",
       " 'SMA: IPA': 'Ilmu Pengetahuan Alam',\n",
       " 'SMAN 1 CILIMUS = jurusan peminatan Matematika Tingkat Lanjut,Biologi,Ekonomi': 'Ilmu Pengetahuan Alam',\n",
       " 'Ips': 'Ilmu Pengetahuan Sosial',\n",
       " 'SMA, IPA': 'Ilmu Pengetahuan Alam',\n",
       " 'IPA': 'Ilmu Pengetahuan Alam',\n",
       " 'SMA:IPA': 'Ilmu Pengetahuan Alam',\n",
       " 'rekayasa perangkat lunak': 'Rekayasa Perangkat Lunak',\n",
       " 'pengembangan perangkat lunak dan gim': 'Pengembangan Perangkat Lunak dan Gim',\n",
       " 'rpl': 'Rekayasa Perangkat Lunak',\n",
       " 'Rekayasa perangkat lunak': 'Rekayasa Perangkat Lunak',\n",
       " 'REKAYASA PERANGKAT LUNAK': 'Rekayasa Perangkat Lunak',\n",
       " 'desain komunikasi visual': 'Desain Komunikasi Visual',\n",
       " 'dkv': 'Desain Komunikasi Visual',\n",
       " 'DESAIN KOMUNIKASI VISUAL': 'Desain Komunikasi Visual',\n",
       " 'SMKN 1 KUNINGAN : Desain komunikasi visual (DKV': 'Desain Komunikasi Visual',\n",
       " 'Desain komunikasi Visual': 'Desain Komunikasi Visual',\n",
       " 'desain pemodelan dan informasi bangunan': 'Desain Pemodelan dan Informasi Bangunan',\n",
       " 'desain permodelan dan informasi bangunan': 'Desain Pemodelan dan Informasi Bangunan',\n",
       " 'dpib': 'Desain Pemodelan dan Informasi Bangunan',\n",
       " 'Desain Permodelan dan Informasi Bangunan': 'Desain Pemodelan dan Informasi Bangunan',\n",
       " 'teknik otomasi industri': 'Teknik Otomasi Industri',\n",
       " 'toi': 'Teknik Otomasi Industri',\n",
       " 'SMKN 3 KUNINGAN : TEKNIK OTAMASI INDUSTRI': 'Teknik Otomasi Industri',\n",
       " 'SMK N 3 KUNINGAN (TOI)': 'Teknik Otomasi Industri',\n",
       " 'teknik kendaraan ringan': 'Teknik Kendaraan Ringan',\n",
       " 'teknik kendaraan ringgan': 'Teknik Kendaraan Ringan',\n",
       " 'smk: teknik kendaraan ringan': 'Teknik Kendaraan Ringan',\n",
       " 'teknik kendaraan ringan (tkr)': 'Teknik Kendaraan Ringan',\n",
       " 'tkr': 'Teknik Kendaraan Ringan',\n",
       " 'SMK: Teknik kendaraan Ringan': 'Teknik Kendaraan Ringan',\n",
       " 'TEKNIK KENDARAAN RINGAN': 'Teknik Kendaraan Ringan',\n",
       " 'Teknik kendaraan ringan': 'Teknik Kendaraan Ringan',\n",
       " 'teknik sepeda motor': 'Teknik Sepeda Motor',\n",
       " 'tsm': 'Teknik Sepeda Motor',\n",
       " 'tbsm': 'Teknik dan Bisnis Sepeda Motor',\n",
       " 'jurusan tsm': 'Teknik Sepeda Motor',\n",
       " 'teknik sepedah motor': 'Teknik Sepeda Motor',\n",
       " 'TSM (TEKNIK SEPEDA MOTOR)': 'Teknik Sepeda Motor',\n",
       " 'jurusan TSM': 'Teknik Sepeda Motor',\n",
       " 'TBSM': 'Teknik dan Bisnis Sepeda Motor',\n",
       " 'TEKNIK SEPEDA MOTOR': 'Teknik Sepeda Motor',\n",
       " 'Teknik sepeda motor': 'Teknik Sepeda Motor',\n",
       " 'teknik komputer jaringan': 'Teknik Komputer dan Jaringan',\n",
       " 'teknik komputer dan jaringan': 'Teknik Komputer dan Jaringan',\n",
       " 'tkj': 'Teknik Komputer dan Jaringan',\n",
       " 'tjk': 'Teknik Komputer dan Jaringan',\n",
       " 'teknik komputar jaringan': 'Teknik Komputer dan Jaringan',\n",
       " 'tkj (teknik komputer dan jaringan)': 'Teknik Komputer dan Jaringan',\n",
       " 'Teknik Komputar Jaringan': 'Teknik Komputer dan Jaringan',\n",
       " 'Teknik Komputer dan Jaringan (TKJ)': 'Teknik Komputer dan Jaringan',\n",
       " 'Teknik komputer dan jaringan': 'Teknik Komputer dan Jaringan',\n",
       " 'Kelas khusus Axioo class program': 'Teknik Komputer dan Jaringan',\n",
       " 'teknik audio video': 'Teknik Audio Video',\n",
       " 'teknik audio vidio': 'Teknik Audio Video',\n",
       " 'Teknik Audio Vidio': 'Teknik Audio Video',\n",
       " 'teknik permesinan': 'Teknik Pemesinan',\n",
       " 'jurusan teknik permesinan': 'Teknik Pemesinan',\n",
       " 'jurusan pemesinan (tpm)': 'Teknik Pemesinan',\n",
       " 'teknik permesinan smk karya nasional': 'Teknik Pemesinan',\n",
       " 'JURUSAN PEMESINAN (TPM)': 'Teknik Permesinan',\n",
       " 'Teknik pemesinan': 'Teknik Permesinan',\n",
       " 'teknik ketenagalistrikan': 'Teknik Instalasi Tenaga Listrik',\n",
       " 'teknik instalasi tenaga listrik': 'Teknik Instalasi Tenaga Listrik',\n",
       " 'titl': 'Teknik Instalasi Tenaga Listrik',\n",
       " 'Teknik Ketenagalistrikan/Teknik instalasi Tenaga Listrik (TITL)': 'Teknik Instalasi Tenaga Listrik',\n",
       " 'Teknik Ketenagalistrikan': 'Teknik Instalasi Tenaga Listrik',\n",
       " 'teknik kontruksi dan perumahan': 'Teknik Konstruksi dan Perumahan',\n",
       " 'tkp': 'Teknik Konstruksi dan Perumahan',\n",
       " 'TKP (tehnik konstruksi dan perumahan)': 'Teknik Konstruksi dan Perumahan',\n",
       " 'akuntansi': 'Akuntansi',\n",
       " 'akuntansi keuangan dan lembaga': 'Akuntansi dan Keuangan Lembaga',\n",
       " 'akuntansi dan keuangan lembaga': 'Akuntansi dan Keuangan Lembaga',\n",
       " 'AKUNTANSI': 'Akuntansi',\n",
       " 'Akuntansi keuangan dan lembaga': 'Akuntansi dan Keuangan Lembaga',\n",
       " 'pemasaran': 'Pemasaran',\n",
       " 'jurusan pemasaran': 'Pemasaran',\n",
       " 'pemasaran / bisnis ritel': 'Pemasaran',\n",
       " 'Jurusan pemasaran': 'Pemasaran',\n",
       " 'PEMASARAN / BISNIS RITEL': 'Pemasaran',\n",
       " 'perhotelan': 'Perhotelan',\n",
       " 'tata boga': 'Tata Boga',\n",
       " 'farmasi': 'Farmasi',\n",
       " 'smk (kefarmasian)': 'Farmasi',\n",
       " 'SMK (kefarmasian)': 'Farmasi',\n",
       " 'keperawatan': 'Keperawatan',\n",
       " 'jurusan keperawatan': 'Keperawatan',\n",
       " 'Agribisnis Tanaman Pangan Dan Hortikultura (ATPH)': 'Agribisnis Tanaman Pangan dan Hortikultura',\n",
       " 'agribisnis tanaman pangan dan hortikultura': 'Agribisnis Tanaman Pangan dan Hortikultura',\n",
       " 'atph': 'Agribisnis Tanaman Pangan dan Hortikultura',\n",
       " 'agribisnis perikanan air tawar': 'Agribisnis Perikanan Air Tawar',\n",
       " 'usaha layanan pariwisata': 'Usaha Layanan Pariwisata',\n",
       " 'USAHA LAYANAN PARIWISATA': 'Usaha Layanan Pariwisata',\n",
       " 'layanan perbankan': 'Layanan Perbankan',\n",
       " 'teknik otomotif': 'Teknik Otomotif'}"
      ]
     },
     "execution_count": 180,
     "metadata": {},
     "output_type": "execute_result"
    }
   ],
   "source": [
    "dictionary_jurusan = {\n",
    "    # IPA / IPS\n",
    "    \"ipa\": \"Ilmu Pengetahuan Alam\",\n",
    "    \"sma: ipa\": \"Ilmu Pengetahuan Alam\",\n",
    "    \"sma, ipa\": \"Ilmu Pengetahuan Alam\",\n",
    "    \"sma:ipa\": \"Ilmu Pengetahuan Alam\",\n",
    "    \"IPS\": \"Ilmu Pengetahuan Sosial\",\n",
    "    \"ips\": \"Ilmu Pengetahuan Sosial\",\n",
    "    \"SMA: IPA\": \"Ilmu Pengetahuan Alam\",\n",
    "    \"SMAN 1 CILIMUS = jurusan peminatan Matematika Tingkat Lanjut,Biologi,Ekonomi\": \"Ilmu Pengetahuan Alam\",\n",
    "    \"Ips\": \"Ilmu Pengetahuan Sosial\",\n",
    "    \"SMA, IPA\": \"Ilmu Pengetahuan Alam\",\n",
    "    \"SMA: IPA\": \"Ilmu Pengetahuan Alam\",\n",
    "    \"IPA\": \"Ilmu Pengetahuan Alam\",\n",
    "    \"SMA:IPA\": \"Ilmu Pengetahuan Alam\",\n",
    "    \n",
    "\n",
    "    # Rekayasa Perangkat Lunak\n",
    "    \"rekayasa perangkat lunak\": \"Rekayasa Perangkat Lunak\",\n",
    "    \"pengembangan perangkat lunak dan gim\": \"Pengembangan Perangkat Lunak dan Gim\",\n",
    "    \"rpl\": \"Rekayasa Perangkat Lunak\",\n",
    "    \"Rekayasa perangkat lunak\": \"Rekayasa Perangkat Lunak\",\n",
    "    \"REKAYASA PERANGKAT LUNAK\": \"Rekayasa Perangkat Lunak\",\n",
    "\n",
    "    # Desain Komunikasi Visual\n",
    "    \"desain komunikasi visual\": \"Desain Komunikasi Visual\",\n",
    "    \"dkv\": \"Desain Komunikasi Visual\",\n",
    "    \"DESAIN KOMUNIKASI VISUAL\": \"Desain Komunikasi Visual\",\n",
    "    \"SMKN 1 KUNINGAN : Desain komunikasi visual (DKV\": \"Desain Komunikasi Visual\",\n",
    "    \"Desain komunikasi Visual\": \"Desain Komunikasi Visual\",\n",
    "\n",
    "    # Desain Pemodelan dan Informasi Bangunan\n",
    "    \"desain pemodelan dan informasi bangunan\": \"Desain Pemodelan dan Informasi Bangunan\",\n",
    "    \"desain permodelan dan informasi bangunan\": \"Desain Pemodelan dan Informasi Bangunan\",\n",
    "    \"dpib\": \"Desain Pemodelan dan Informasi Bangunan\",\n",
    "    \"Desain Permodelan dan Informasi Bangunan\": \"Desain Pemodelan dan Informasi Bangunan\",\n",
    "\n",
    "    # Teknik Otomasi Industri\n",
    "    \"teknik otomasi industri\": \"Teknik Otomasi Industri\",\n",
    "    \"toi\": \"Teknik Otomasi Industri\",\n",
    "    \"SMKN 3 KUNINGAN : TEKNIK OTAMASI INDUSTRI\": \"Teknik Otomasi Industri\",\n",
    "    \"SMK N 3 KUNINGAN (TOI)\": \"Teknik Otomasi Industri\",\n",
    "\n",
    "    # Teknik Kendaraan Ringan\n",
    "    \"teknik kendaraan ringan\": \"Teknik Kendaraan Ringan\",\n",
    "    \"teknik kendaraan ringgan\": \"Teknik Kendaraan Ringan\",\n",
    "    \"smk: teknik kendaraan ringan\": \"Teknik Kendaraan Ringan\",\n",
    "    \"teknik kendaraan ringan (tkr)\": \"Teknik Kendaraan Ringan\",\n",
    "    \"tkr\": \"Teknik Kendaraan Ringan\",\n",
    "    \"SMK: Teknik kendaraan Ringan\": \"Teknik Kendaraan Ringan\",\n",
    "    \"TEKNIK KENDARAAN RINGAN\": \"Teknik Kendaraan Ringan\",\n",
    "    \"Teknik kendaraan ringan\": \"Teknik Kendaraan Ringan\",\n",
    "\n",
    "    # Teknik Sepeda Motor\n",
    "    \"teknik sepeda motor\": \"Teknik Sepeda Motor\",\n",
    "    \"tsm\": \"Teknik Sepeda Motor\",\n",
    "    \"tbsm\": \"Teknik dan Bisnis Sepeda Motor\",\n",
    "    \"jurusan tsm\": \"Teknik Sepeda Motor\",\n",
    "    \"teknik sepedah motor\": \"Teknik Sepeda Motor\",\n",
    "    \"TSM (TEKNIK SEPEDA MOTOR)\": \"Teknik Sepeda Motor\",\n",
    "    \"jurusan TSM\": \"Teknik Sepeda Motor\",\n",
    "    \"TBSM\": \"Teknik dan Bisnis Sepeda Motor\",\n",
    "    \"TEKNIK SEPEDA MOTOR\": \"Teknik Sepeda Motor\",\n",
    "    \"Teknik sepeda motor\": \"Teknik Sepeda Motor\",\n",
    "\n",
    "    # Teknik Komputer Jaringan\n",
    "    \"teknik komputer jaringan\": \"Teknik Komputer dan Jaringan\",\n",
    "    \"teknik komputer dan jaringan\": \"Teknik Komputer dan Jaringan\",\n",
    "    \"tkj\": \"Teknik Komputer dan Jaringan\",\n",
    "    \"tjk\": \"Teknik Komputer dan Jaringan\",\n",
    "    \"teknik komputar jaringan\": \"Teknik Komputer dan Jaringan\",\n",
    "    \"tkj (teknik komputer dan jaringan)\": \"Teknik Komputer dan Jaringan\",\n",
    "    \"Teknik Komputar Jaringan\": \"Teknik Komputer dan Jaringan\",\n",
    "    \"Teknik Komputer dan Jaringan (TKJ)\": \"Teknik Komputer dan Jaringan\",\n",
    "    \"Teknik komputer dan jaringan\": \"Teknik Komputer dan Jaringan\",\n",
    "    \"Kelas khusus Axioo class program\": \"Teknik Komputer dan Jaringan\",\n",
    "\n",
    "    # Teknik Audio Video\n",
    "    \"teknik audio video\": \"Teknik Audio Video\",\n",
    "    \"teknik audio vidio\": \"Teknik Audio Video\",\n",
    "    \"Teknik Audio Vidio\": \"Teknik Audio Video\",\n",
    "\n",
    "    # Teknik Pemesinan\n",
    "    \"teknik permesinan\": \"Teknik Pemesinan\",\n",
    "    \"jurusan teknik permesinan\": \"Teknik Pemesinan\",\n",
    "    \"jurusan pemesinan (tpm)\": \"Teknik Pemesinan\",\n",
    "    \"teknik permesinan smk karya nasional\": \"Teknik Pemesinan\",\n",
    "    \"JURUSAN PEMESINAN (TPM)\": \"Teknik Permesinan\",\n",
    "    \"Teknik pemesinan\": \"Teknik Permesinan\",\n",
    "\n",
    "    # Teknik Ketenagalistrikan / Instalasi Listrik\n",
    "    \"teknik ketenagalistrikan\": \"Teknik Instalasi Tenaga Listrik\",\n",
    "    \"teknik instalasi tenaga listrik\": \"Teknik Instalasi Tenaga Listrik\",\n",
    "    \"titl\": \"Teknik Instalasi Tenaga Listrik\",\n",
    "    \"Teknik Ketenagalistrikan/Teknik instalasi Tenaga Listrik (TITL)\": \"Teknik Instalasi Tenaga Listrik\",\n",
    "    \"Teknik Ketenagalistrikan\": \"Teknik Instalasi Tenaga Listrik\",\n",
    "\n",
    "    # Teknik Konstruksi Perumahan\n",
    "    \"teknik kontruksi dan perumahan\": \"Teknik Konstruksi dan Perumahan\",\n",
    "    \"tkp\": \"Teknik Konstruksi dan Perumahan\",\n",
    "    \"TKP (tehnik konstruksi dan perumahan)\": \"Teknik Konstruksi dan Perumahan\",\n",
    "\n",
    "    # Akuntansi\n",
    "    \"akuntansi\": \"Akuntansi\",\n",
    "    \"akuntansi keuangan dan lembaga\": \"Akuntansi dan Keuangan Lembaga\",\n",
    "    \"akuntansi dan keuangan lembaga\": \"Akuntansi dan Keuangan Lembaga\",\n",
    "    \"AKUNTANSI\": \"Akuntansi\",\n",
    "    \"Akuntansi keuangan dan lembaga\": \"Akuntansi dan Keuangan Lembaga\",\n",
    "\n",
    "    # Pemasaran\n",
    "    \"pemasaran\": \"Pemasaran\",\n",
    "    \"jurusan pemasaran\": \"Pemasaran\",\n",
    "    \"pemasaran / bisnis ritel\": \"Pemasaran\",\n",
    "    \"Jurusan pemasaran\": \"Pemasaran\",\n",
    "    \"PEMASARAN / BISNIS RITEL\": \"Pemasaran\",\n",
    "\n",
    "    # Perhotelan\n",
    "    \"perhotelan\": \"Perhotelan\",\n",
    "\n",
    "    # Tata Boga\n",
    "    \"tata boga\": \"Tata Boga\",\n",
    "\n",
    "    # Farmasi\n",
    "    \"farmasi\": \"Farmasi\",\n",
    "    \"smk (kefarmasian)\": \"Farmasi\",\n",
    "    \"SMK (kefarmasian)\": \"Farmasi\",\n",
    "\n",
    "    # Keperawatan\n",
    "    \"keperawatan\": \"Keperawatan\",\n",
    "    \"jurusan keperawatan\": \"Keperawatan\",\n",
    "\n",
    "    # Agribisnis\n",
    "    \"Agribisnis Tanaman Pangan Dan Hortikultura (ATPH)\": \"Agribisnis Tanaman Pangan dan Hortikultura\",\n",
    "    \"agribisnis tanaman pangan dan hortikultura\": \"Agribisnis Tanaman Pangan dan Hortikultura\",\n",
    "    \"atph\": \"Agribisnis Tanaman Pangan dan Hortikultura\",\n",
    "    \"agribisnis perikanan air tawar\": \"Agribisnis Perikanan Air Tawar\",\n",
    "\n",
    "    # Usaha Layanan Pariwisata\n",
    "    \"usaha layanan pariwisata\": \"Usaha Layanan Pariwisata\",\n",
    "    \"USAHA LAYANAN PARIWISATA\": \"Usaha Layanan Pariwisata\",\n",
    "\n",
    "    # Layanan Perbankan\n",
    "    \"layanan perbankan\": \"Layanan Perbankan\",\n",
    "\n",
    "    # Teknik Otomotif\n",
    "    \"teknik otomotif\": \"Teknik Otomotif\"\n",
    "}\n",
    "dictionary_jurusan"
   ]
  },
  {
   "cell_type": "code",
   "execution_count": 182,
   "id": "05ae934c-6f45-4b9e-b637-ff204728de02",
   "metadata": {
    "scrolled": true
   },
   "outputs": [],
   "source": [
    "df['Jurusan'] = df['Jurusan'].replace(dictionary_jurusan)"
   ]
  },
  {
   "cell_type": "code",
   "execution_count": 184,
   "id": "5e4b83d0-ecb6-4e2c-ad8d-6eba1e74c4f5",
   "metadata": {
    "scrolled": true
   },
   "outputs": [
    {
     "data": {
      "text/plain": [
       "array(['Agribisnis Tanaman Pangan dan Hortikultura',\n",
       "       'Ilmu Pengetahuan Sosial', 'Teknik Otomasi Industri',\n",
       "       'Teknik Kendaraan Ringan', 'Usaha Layanan Pariwisata', 'Akuntansi',\n",
       "       'Pengembangan Perangkat Lunak dan Gim',\n",
       "       'Desain Pemodelan dan Informasi Bangunan', 'Teknik Audio Video',\n",
       "       'Teknik Komputer Jaringan', 'Ilmu Pengetahuan Alam',\n",
       "       'Desain Komunikasi Visual', 'Teknik Instalasi Tenaga Listrik',\n",
       "       'Teknik Sepeda Motor', 'Teknik Kontruksi Dan Perumahan',\n",
       "       'Teknik Konstruksi dan Perumahan',\n",
       "       'Akuntansi dan Keuangan Lembaga', 'Teknik Otomotif',\n",
       "       'Teknik Komputer dan Jaringan', 'Teknik Pemesinan',\n",
       "       'Teknik Permesinan', 'Teknik dan Bisnis Sepeda Motor',\n",
       "       'Keperawatan', 'Farmasi', 'Agribisnis Perikanan Air Tawar',\n",
       "       'Rekayasa Perangkat Lunak', 'Layanan Perbankan', 'Perhotelan',\n",
       "       'Tata boga', 'Pemasaran'], dtype=object)"
      ]
     },
     "execution_count": 184,
     "metadata": {},
     "output_type": "execute_result"
    }
   ],
   "source": [
    "df['Jurusan'].unique()"
   ]
  },
  {
   "cell_type": "code",
   "execution_count": 186,
   "id": "fcb10b70-cf12-42ff-a9d7-9bba6199e906",
   "metadata": {},
   "outputs": [
    {
     "data": {
      "text/plain": [
       "Jurusan\n",
       "Ilmu Pengetahuan Alam                         25\n",
       "Ilmu Pengetahuan Sosial                       20\n",
       "Teknik Sepeda Motor                            9\n",
       "Teknik Komputer dan Jaringan                   7\n",
       "Desain Pemodelan dan Informasi Bangunan        5\n",
       "Desain Komunikasi Visual                       5\n",
       "Teknik Otomasi Industri                        4\n",
       "Teknik Kendaraan Ringan                        4\n",
       "Teknik Audio Video                             4\n",
       "Pemasaran                                      3\n",
       "Keperawatan                                    3\n",
       "Akuntansi dan Keuangan Lembaga                 3\n",
       "Teknik Instalasi Tenaga Listrik                3\n",
       "Pengembangan Perangkat Lunak dan Gim           3\n",
       "Rekayasa Perangkat Lunak                       2\n",
       "Teknik Komputer Jaringan                       2\n",
       "Akuntansi                                      2\n",
       "Teknik Pemesinan                               2\n",
       "Teknik Permesinan                              2\n",
       "Teknik dan Bisnis Sepeda Motor                 2\n",
       "Farmasi                                        2\n",
       "Perhotelan                                     1\n",
       "Layanan Perbankan                              1\n",
       "Tata boga                                      1\n",
       "Agribisnis Tanaman Pangan dan Hortikultura     1\n",
       "Agribisnis Perikanan Air Tawar                 1\n",
       "Teknik Otomotif                                1\n",
       "Teknik Kontruksi Dan Perumahan                 1\n",
       "Usaha Layanan Pariwisata                       1\n",
       "Teknik Konstruksi dan Perumahan                1\n",
       "Name: count, dtype: int64"
      ]
     },
     "execution_count": 186,
     "metadata": {},
     "output_type": "execute_result"
    }
   ],
   "source": [
    "df['Jurusan'].value_counts()"
   ]
  },
  {
   "cell_type": "code",
   "execution_count": 188,
   "id": "73a646bd-d868-4177-8974-b8a12859af69",
   "metadata": {},
   "outputs": [
    {
     "data": {
      "text/html": [
       "<div>\n",
       "<style scoped>\n",
       "    .dataframe tbody tr th:only-of-type {\n",
       "        vertical-align: middle;\n",
       "    }\n",
       "\n",
       "    .dataframe tbody tr th {\n",
       "        vertical-align: top;\n",
       "    }\n",
       "\n",
       "    .dataframe thead th {\n",
       "        text-align: right;\n",
       "    }\n",
       "</style>\n",
       "<table border=\"1\" class=\"dataframe\">\n",
       "  <thead>\n",
       "    <tr style=\"text-align: right;\">\n",
       "      <th></th>\n",
       "      <th>Timestamp</th>\n",
       "      <th>Nama Lengkap</th>\n",
       "      <th>Jenis Kelamin</th>\n",
       "      <th>Lulus dari SMP</th>\n",
       "      <th>Lanjut ke Sekolah Menengah ...</th>\n",
       "      <th>Jurusan</th>\n",
       "    </tr>\n",
       "  </thead>\n",
       "  <tbody>\n",
       "    <tr>\n",
       "      <th>0</th>\n",
       "      <td>8/25/2025 9:45:19</td>\n",
       "      <td>Student 1</td>\n",
       "      <td>Laki-laki</td>\n",
       "      <td>2025</td>\n",
       "      <td>SMK</td>\n",
       "      <td>Agribisnis Tanaman Pangan dan Hortikultura</td>\n",
       "    </tr>\n",
       "    <tr>\n",
       "      <th>1</th>\n",
       "      <td>8/25/2025 9:51:54</td>\n",
       "      <td>Student 2</td>\n",
       "      <td>Laki-laki</td>\n",
       "      <td>2025</td>\n",
       "      <td>SMA</td>\n",
       "      <td>Ilmu Pengetahuan Sosial</td>\n",
       "    </tr>\n",
       "    <tr>\n",
       "      <th>2</th>\n",
       "      <td>8/25/2025 9:57:09</td>\n",
       "      <td>Student 3</td>\n",
       "      <td>Laki-laki</td>\n",
       "      <td>2025</td>\n",
       "      <td>SMK</td>\n",
       "      <td>Teknik Otomasi Industri</td>\n",
       "    </tr>\n",
       "    <tr>\n",
       "      <th>3</th>\n",
       "      <td>8/25/2025 10:05:45</td>\n",
       "      <td>Student 4</td>\n",
       "      <td>Laki-laki</td>\n",
       "      <td>2025</td>\n",
       "      <td>SMK</td>\n",
       "      <td>Teknik Kendaraan Ringan</td>\n",
       "    </tr>\n",
       "    <tr>\n",
       "      <th>4</th>\n",
       "      <td>8/25/2025 10:08:43</td>\n",
       "      <td>Student 5</td>\n",
       "      <td>Perempuan</td>\n",
       "      <td>2025</td>\n",
       "      <td>SMK</td>\n",
       "      <td>Usaha Layanan Pariwisata</td>\n",
       "    </tr>\n",
       "    <tr>\n",
       "      <th>...</th>\n",
       "      <td>...</td>\n",
       "      <td>...</td>\n",
       "      <td>...</td>\n",
       "      <td>...</td>\n",
       "      <td>...</td>\n",
       "      <td>...</td>\n",
       "    </tr>\n",
       "    <tr>\n",
       "      <th>116</th>\n",
       "      <td>8/26/2025 22:57:26</td>\n",
       "      <td>Student 117</td>\n",
       "      <td>Perempuan</td>\n",
       "      <td>2025</td>\n",
       "      <td>SMK</td>\n",
       "      <td>Teknik Otomasi Industri</td>\n",
       "    </tr>\n",
       "    <tr>\n",
       "      <th>117</th>\n",
       "      <td>8/27/2025 21:11:29</td>\n",
       "      <td>Student 118</td>\n",
       "      <td>Perempuan</td>\n",
       "      <td>2024</td>\n",
       "      <td>SMA</td>\n",
       "      <td>Ilmu Pengetahuan Sosial</td>\n",
       "    </tr>\n",
       "    <tr>\n",
       "      <th>118</th>\n",
       "      <td>8/30/2025 9:32:55</td>\n",
       "      <td>Student 119</td>\n",
       "      <td>Perempuan</td>\n",
       "      <td>2025</td>\n",
       "      <td>SMA</td>\n",
       "      <td>Ilmu Pengetahuan Sosial</td>\n",
       "    </tr>\n",
       "    <tr>\n",
       "      <th>119</th>\n",
       "      <td>8/30/2025 9:42:34</td>\n",
       "      <td>Student 120</td>\n",
       "      <td>Perempuan</td>\n",
       "      <td>2025</td>\n",
       "      <td>SMA</td>\n",
       "      <td>Ilmu Pengetahuan Sosial</td>\n",
       "    </tr>\n",
       "    <tr>\n",
       "      <th>120</th>\n",
       "      <td>8/30/2025 10:03:38</td>\n",
       "      <td>Student 121</td>\n",
       "      <td>Perempuan</td>\n",
       "      <td>2025</td>\n",
       "      <td>SMA</td>\n",
       "      <td>Ilmu Pengetahuan Sosial</td>\n",
       "    </tr>\n",
       "  </tbody>\n",
       "</table>\n",
       "<p>121 rows × 6 columns</p>\n",
       "</div>"
      ],
      "text/plain": [
       "              Timestamp Nama Lengkap Jenis Kelamin Lulus dari SMP  \\\n",
       "0     8/25/2025 9:45:19    Student 1     Laki-laki           2025   \n",
       "1     8/25/2025 9:51:54    Student 2     Laki-laki           2025   \n",
       "2     8/25/2025 9:57:09    Student 3     Laki-laki           2025   \n",
       "3    8/25/2025 10:05:45    Student 4     Laki-laki           2025   \n",
       "4    8/25/2025 10:08:43    Student 5     Perempuan           2025   \n",
       "..                  ...          ...           ...            ...   \n",
       "116  8/26/2025 22:57:26  Student 117     Perempuan           2025   \n",
       "117  8/27/2025 21:11:29  Student 118     Perempuan           2024   \n",
       "118   8/30/2025 9:32:55  Student 119     Perempuan           2025   \n",
       "119   8/30/2025 9:42:34  Student 120     Perempuan           2025   \n",
       "120  8/30/2025 10:03:38  Student 121     Perempuan           2025   \n",
       "\n",
       "    Lanjut ke Sekolah Menengah ...                                     Jurusan  \n",
       "0                              SMK  Agribisnis Tanaman Pangan dan Hortikultura  \n",
       "1                              SMA                     Ilmu Pengetahuan Sosial  \n",
       "2                              SMK                     Teknik Otomasi Industri  \n",
       "3                              SMK                     Teknik Kendaraan Ringan  \n",
       "4                              SMK                    Usaha Layanan Pariwisata  \n",
       "..                             ...                                         ...  \n",
       "116                            SMK                     Teknik Otomasi Industri  \n",
       "117                            SMA                     Ilmu Pengetahuan Sosial  \n",
       "118                            SMA                     Ilmu Pengetahuan Sosial  \n",
       "119                            SMA                     Ilmu Pengetahuan Sosial  \n",
       "120                            SMA                     Ilmu Pengetahuan Sosial  \n",
       "\n",
       "[121 rows x 6 columns]"
      ]
     },
     "execution_count": 188,
     "metadata": {},
     "output_type": "execute_result"
    }
   ],
   "source": [
    "df"
   ]
  },
  {
   "cell_type": "markdown",
   "id": "59250920-248f-45c0-b839-e098fadd7a85",
   "metadata": {},
   "source": [
    "> Export df to CSV with name \"for-data-vis\""
   ]
  },
  {
   "cell_type": "code",
   "execution_count": 190,
   "id": "04850ea6-7ec3-4647-aa5d-c295b28d5664",
   "metadata": {},
   "outputs": [],
   "source": [
    "df.to_csv('for-data-vis.csv', index=False)"
   ]
  },
  {
   "cell_type": "markdown",
   "id": "52f087af-40b0-462d-9f12-9006e833d7f0",
   "metadata": {},
   "source": [
    "## Numerical Outlier"
   ]
  },
  {
   "cell_type": "code",
   "execution_count": 15,
   "id": "35e3a495-29e5-48f8-af8b-f75a78bdab23",
   "metadata": {},
   "outputs": [
    {
     "name": "stdout",
     "output_type": "stream",
     "text": [
      "<class 'pandas.core.frame.DataFrame'>\n",
      "RangeIndex: 121 entries, 0 to 120\n",
      "Data columns (total 6 columns):\n",
      " #   Column                          Non-Null Count  Dtype \n",
      "---  ------                          --------------  ----- \n",
      " 0   Timestamp                       121 non-null    object\n",
      " 1   Nama Lengkap                    121 non-null    object\n",
      " 2   Jenis Kelamin                   121 non-null    object\n",
      " 3   Lulus dari SPENSANA  ...        121 non-null    object\n",
      " 4   Lanjut ke Sekolah Menengah ...  121 non-null    object\n",
      " 5   Jurusan ...                     121 non-null    object\n",
      "dtypes: object(6)\n",
      "memory usage: 5.8+ KB\n"
     ]
    }
   ],
   "source": [
    "df.info()"
   ]
  },
  {
   "cell_type": "code",
   "execution_count": 20,
   "id": "b1dec974-7503-4dba-8c69-cd004a4ac7d2",
   "metadata": {},
   "outputs": [
    {
     "name": "stdout",
     "output_type": "stream",
     "text": [
      "Timestamp                         category\n",
      "Nama Lengkap                      category\n",
      "Jenis Kelamin                     category\n",
      "Lulus dari SMP                    category\n",
      "Lanjut ke Sekolah Menengah ...    category\n",
      "Jurusan                           category\n",
      "dtype: object\n"
     ]
    }
   ],
   "source": [
    "for col in df.columns:\n",
    "    df[col] = df[col].astype('category')\n",
    "\n",
    "print(df.dtypes)"
   ]
  },
  {
   "cell_type": "code",
   "execution_count": null,
   "id": "524063f4-6091-4fb6-9d55-d0f1bd85ed9f",
   "metadata": {},
   "outputs": [],
   "source": []
  }
 ],
 "metadata": {
  "kernelspec": {
   "display_name": "Python [conda env:base] *",
   "language": "python",
   "name": "conda-base-py"
  },
  "language_info": {
   "codemirror_mode": {
    "name": "ipython",
    "version": 3
   },
   "file_extension": ".py",
   "mimetype": "text/x-python",
   "name": "python",
   "nbconvert_exporter": "python",
   "pygments_lexer": "ipython3",
   "version": "3.12.7"
  }
 },
 "nbformat": 4,
 "nbformat_minor": 5
}
