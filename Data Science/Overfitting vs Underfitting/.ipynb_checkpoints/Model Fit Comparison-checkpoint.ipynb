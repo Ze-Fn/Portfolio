{
 "cells": [
  {
   "cell_type": "code",
   "execution_count": null,
   "id": "f6c48bc4-e2ca-4f84-8bfb-cf6af466b297",
   "metadata": {},
   "outputs": [],
   "source": [
    "import numpy as np\n",
    "import matplotlib.pyplot as plt\n",
    "from sklearn.linear_model import LinearRegression\n",
    "from sklearn.preprocessing import PolynomialFeatures\n",
    "from sklearn.pipeline import make_pipeline\n",
    "\n",
    "# 1. Buat data tiruan (fungsi sin + noise)\n",
    "np.random.seed(0)\n",
    "X = np.sort(5 * np.random.rand(30, 1), axis=0)\n",
    "y = np.sin(X).ravel() + np.random.normal(0, 0.1, X.shape[0])\n",
    "X_test = np.linspace(0, 5, 200)[:, np.newaxis]\n",
    "\n",
    "# 2. Model Underfitting\n",
    "model_under = LinearRegression()\n",
    "model_under.fit(X, y)\n",
    "y_pred_under = model_under.predict(X_test)\n",
    "\n",
    "# 3. Model Good Fit (Poly deg=3)\n",
    "model_good = make_pipeline(PolynomialFeatures(3), LinearRegression())\n",
    "model_good.fit(X, y)\n",
    "y_pred_good = model_good.predict(X_test)\n",
    "\n",
    "# 4. Model Overfitting (Poly deg=15)\n",
    "model_over = make_pipeline(PolynomialFeatures(15), LinearRegression())\n",
    "model_over.fit(X, y)\n",
    "y_pred_over = model_over.predict(X_test)\n",
    "\n",
    "# 5. Plot semua dalam 1 ilustrasi\n",
    "plt.figure(figsize=(8, 5))\n",
    "plt.scatter(X, y, color=\"black\", label=\"Data Asli\", alpha=0.6)\n",
    "plt.plot(X_test, y_pred_under, color=\"red\", linewidth=2, label=\"Underfitting (Linear)\")\n",
    "plt.plot(X_test, y_pred_good, color=\"green\", linewidth=2, label=\"Good Fit (Poly deg=3)\")\n",
    "plt.plot(X_test, y_pred_over, color=\"blue\", linewidth=2, label=\"Overfitting (Poly deg=15)\")\n",
    "plt.title(\"Underfitting vs Good Fit vs Overfitting\")\n",
    "plt.legend()\n",
    "plt.tight_layout()\n",
    "plt.savefig(\"fit_comparison_overlay.png\", dpi=150)  # simpan ke file lokal\n",
    "plt.close()\n",
    "\n",
    "print(\"Gambar berhasil disimpan sebagai fit_comparison_overlay.png\")"
   ]
  }
 ],
 "metadata": {
  "kernelspec": {
   "display_name": "Python [conda env:base] *",
   "language": "python",
   "name": "conda-base-py"
  },
  "language_info": {
   "codemirror_mode": {
    "name": "ipython",
    "version": 3
   },
   "file_extension": ".py",
   "mimetype": "text/x-python",
   "name": "python",
   "nbconvert_exporter": "python",
   "pygments_lexer": "ipython3",
   "version": "3.12.7"
  }
 },
 "nbformat": 4,
 "nbformat_minor": 5
}
